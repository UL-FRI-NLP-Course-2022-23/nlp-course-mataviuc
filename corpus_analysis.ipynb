{
 "cells": [
  {
   "cell_type": "code",
   "execution_count": 9,
   "metadata": {
    "pycharm": {
     "is_executing": true
    }
   },
   "outputs": [],
   "source": [
    "import os\n",
    "\n",
    "import pandas as pd\n",
    "\n",
    "from helpers import word_count, sent_count, avg_words_in_sentence, vocabulary_size"
   ]
  },
  {
   "cell_type": "markdown",
   "metadata": {},
   "source": [
    "# Corpus 1\n",
    "## Read corpus"
   ]
  },
  {
   "cell_type": "code",
   "execution_count": 10,
   "metadata": {},
   "outputs": [
    {
     "data": {
      "text/html": [
       "<div>\n",
       "<style scoped>\n",
       "    .dataframe tbody tr th:only-of-type {\n",
       "        vertical-align: middle;\n",
       "    }\n",
       "\n",
       "    .dataframe tbody tr th {\n",
       "        vertical-align: top;\n",
       "    }\n",
       "\n",
       "    .dataframe thead th {\n",
       "        text-align: right;\n",
       "    }\n",
       "</style>\n",
       "<table border=\"1\" class=\"dataframe\">\n",
       "  <thead>\n",
       "    <tr style=\"text-align: right;\">\n",
       "      <th></th>\n",
       "      <th>Title</th>\n",
       "      <th>Text</th>\n",
       "    </tr>\n",
       "  </thead>\n",
       "  <tbody>\n",
       "    <tr>\n",
       "      <th>0</th>\n",
       "      <td>Androcles</td>\n",
       "      <td>A slave named Androcles once escaped from his ...</td>\n",
       "    </tr>\n",
       "    <tr>\n",
       "      <th>1</th>\n",
       "      <td>Avaracious_and_Envious</td>\n",
       "      <td>Two neighbours came before Jupiter and prayed ...</td>\n",
       "    </tr>\n",
       "    <tr>\n",
       "      <th>2</th>\n",
       "      <td>Belling_the_Cat</td>\n",
       "      <td>Long ago, the mice had a general council to co...</td>\n",
       "    </tr>\n",
       "    <tr>\n",
       "      <th>3</th>\n",
       "      <td>Hercules_and_the_Waggoner</td>\n",
       "      <td>A Waggoner was once driving a heavy load along...</td>\n",
       "    </tr>\n",
       "    <tr>\n",
       "      <th>4</th>\n",
       "      <td>The_Ant_and_the_Grasshopper</td>\n",
       "      <td>In a field one summer’s day a Grasshopper was ...</td>\n",
       "    </tr>\n",
       "  </tbody>\n",
       "</table>\n",
       "</div>"
      ],
      "text/plain": [
       "                         Title  \\\n",
       "0                    Androcles   \n",
       "1       Avaracious_and_Envious   \n",
       "2              Belling_the_Cat   \n",
       "3    Hercules_and_the_Waggoner   \n",
       "4  The_Ant_and_the_Grasshopper   \n",
       "\n",
       "                                                Text  \n",
       "0  A slave named Androcles once escaped from his ...  \n",
       "1  Two neighbours came before Jupiter and prayed ...  \n",
       "2  Long ago, the mice had a general council to co...  \n",
       "3  A Waggoner was once driving a heavy load along...  \n",
       "4  In a field one summer’s day a Grasshopper was ...  "
      ]
     },
     "execution_count": 10,
     "metadata": {},
     "output_type": "execute_result"
    }
   ],
   "source": [
    "df1 = pd.DataFrame(columns=['Title','Text'])\n",
    "\n",
    "dir_path = 'data/aesop/original/'\n",
    "for story_name in os.listdir(dir_path):\n",
    "    with open(dir_path + story_name, 'r') as file:\n",
    "        story = file.read().replace('\\n', ' ')\n",
    "        df1=df1.append({'Title':story_name.replace('.txt',''),'Text':story},ignore_index=True)\n",
    "df1.head()"
   ]
  },
  {
   "cell_type": "markdown",
   "metadata": {},
   "source": [
    "## Edit corpus"
   ]
  },
  {
   "cell_type": "code",
   "execution_count": 11,
   "metadata": {
    "pycharm": {
     "name": "#%%\n"
    }
   },
   "outputs": [],
   "source": [
    "df1 = df1.replace(r'[\\n]+', ' ', regex=True)"
   ]
  },
  {
   "cell_type": "markdown",
   "metadata": {},
   "source": [
    "## Analyse corpus"
   ]
  },
  {
   "cell_type": "code",
   "execution_count": 12,
   "metadata": {
    "pycharm": {
     "name": "#%%\n"
    }
   },
   "outputs": [
    {
     "name": "stdout",
     "output_type": "stream",
     "text": [
      "Num. of stories | 55.00\n",
      "Shortest story | 86.00\n",
      "Longest story | 454.00\n",
      "Avg. word count | 174.25\n",
      "Avg. sentence count | 6.40\n",
      "Avg. words in sentence | 27.23\n",
      "Vocabulary size | 1745.00\n",
      "Avg. vocabulary size | 98.44\n"
     ]
    }
   ],
   "source": [
    "df1['Word count'] = df1.apply(lambda row: word_count(row['Text']), axis=1)\n",
    "df1['Sentence count'] = df1.apply(lambda row: sent_count(row['Text']), axis=1)\n",
    "stories = df1['Text'].values.tolist()\n",
    "avg_words_in_sent=avg_words_in_sentence(stories)\n",
    "global_vocabulary_size, avg_vocabulary_size = vocabulary_size(stories)\n",
    "\n",
    "print(\"{:>10s} | {:.2f}\".format('Num. of stories', df1.shape[0]))\n",
    "print(\"{:>10s} | {:.2f}\".format('Shortest story', df1['Word count'].min()))\n",
    "print(\"{:>10s} | {:.2f}\".format('Longest story', df1['Word count'].max()))\n",
    "print(\"{:>10s} | {:.2f}\".format('Avg. word count', df1['Word count'].mean()))\n",
    "print(\"{:>10s} | {:.2f}\".format('Avg. sentence count', df1['Sentence count'].mean()))\n",
    "print(\"{:>10s} | {:.2f}\".format('Avg. words in sentence', avg_words_in_sent))\n",
    "print(\"{:>10s} | {:.2f}\".format('Vocabulary size', global_vocabulary_size))\n",
    "print(\"{:>10s} | {:.2f}\".format('Avg. vocabulary size', avg_vocabulary_size))"
   ]
  },
  {
   "cell_type": "markdown",
   "metadata": {},
   "source": [
    "# Corpus 2\n",
    "## Read our corpus"
   ]
  },
  {
   "cell_type": "code",
   "execution_count": 13,
   "metadata": {
    "pycharm": {
     "name": "#%%\n"
    }
   },
   "outputs": [
    {
     "data": {
      "text/html": [
       "<div>\n",
       "<style scoped>\n",
       "    .dataframe tbody tr th:only-of-type {\n",
       "        vertical-align: middle;\n",
       "    }\n",
       "\n",
       "    .dataframe tbody tr th {\n",
       "        vertical-align: top;\n",
       "    }\n",
       "\n",
       "    .dataframe thead th {\n",
       "        text-align: right;\n",
       "    }\n",
       "</style>\n",
       "<table border=\"1\" class=\"dataframe\">\n",
       "  <thead>\n",
       "    <tr style=\"text-align: right;\">\n",
       "      <th></th>\n",
       "      <th>Title</th>\n",
       "      <th>Text</th>\n",
       "    </tr>\n",
       "  </thead>\n",
       "  <tbody>\n",
       "    <tr>\n",
       "      <th>0</th>\n",
       "      <td>Jupiter_Neptune_Minerva_and_Momus</td>\n",
       "      <td>ACCORDING to an ancient legend, the first man ...</td>\n",
       "    </tr>\n",
       "    <tr>\n",
       "      <th>1</th>\n",
       "      <td>Mercury_and_the_Workmen</td>\n",
       "      <td>A WORKMAN, felling wood by the side of a river...</td>\n",
       "    </tr>\n",
       "    <tr>\n",
       "      <th>2</th>\n",
       "      <td>The_Ant_and_the_Grasshopper</td>\n",
       "      <td>Once upon a time, there were two characters, a...</td>\n",
       "    </tr>\n",
       "    <tr>\n",
       "      <th>3</th>\n",
       "      <td>The_Apes_and_the_Two_Travelers</td>\n",
       "      <td>TWO MEN, one who always spoke the truth and th...</td>\n",
       "    </tr>\n",
       "    <tr>\n",
       "      <th>4</th>\n",
       "      <td>The_Bald_Man</td>\n",
       "      <td>Once upon a time, there was a bald man who was...</td>\n",
       "    </tr>\n",
       "  </tbody>\n",
       "</table>\n",
       "</div>"
      ],
      "text/plain": [
       "                               Title  \\\n",
       "0  Jupiter_Neptune_Minerva_and_Momus   \n",
       "1            Mercury_and_the_Workmen   \n",
       "2        The_Ant_and_the_Grasshopper   \n",
       "3     The_Apes_and_the_Two_Travelers   \n",
       "4                       The_Bald_Man   \n",
       "\n",
       "                                                Text  \n",
       "0  ACCORDING to an ancient legend, the first man ...  \n",
       "1  A WORKMAN, felling wood by the side of a river...  \n",
       "2  Once upon a time, there were two characters, a...  \n",
       "3  TWO MEN, one who always spoke the truth and th...  \n",
       "4  Once upon a time, there was a bald man who was...  "
      ]
     },
     "execution_count": 13,
     "metadata": {},
     "output_type": "execute_result"
    }
   ],
   "source": [
    "df2 = pd.DataFrame(columns=['Title','Text'])\n",
    "\n",
    "dir_path = 'data/new_data/original/'\n",
    "for story_name in os.listdir(dir_path):\n",
    "    with open(dir_path + story_name, 'r') as file:\n",
    "        story = file.read().replace('\\n', ' ')\n",
    "        df2=df2.append({'Title':story_name.replace('.txt',''),'Text':story},ignore_index=True)\n",
    "df2.head()"
   ]
  },
  {
   "cell_type": "markdown",
   "metadata": {},
   "source": [
    "## Edit our corpus"
   ]
  },
  {
   "cell_type": "code",
   "execution_count": 14,
   "metadata": {
    "pycharm": {
     "name": "#%%\n"
    }
   },
   "outputs": [],
   "source": [
    "df2 = df2.replace(r'[\\n]+', ' ', regex=True)"
   ]
  },
  {
   "cell_type": "markdown",
   "metadata": {},
   "source": [
    "## Analyse our corpus"
   ]
  },
  {
   "cell_type": "code",
   "execution_count": 15,
   "metadata": {
    "pycharm": {
     "name": "#%%\n"
    }
   },
   "outputs": [
    {
     "name": "stdout",
     "output_type": "stream",
     "text": [
      "Num. of stories | 73.00\n",
      "Shortest story | 43.00\n",
      "Longest story | 476.00\n",
      "Avg. word count | 161.07\n",
      "Avg. sentence count | 6.77\n",
      "Avg. words in sentence | 23.80\n",
      "Vocabulary size | 2215.00\n",
      "Avg. vocabulary size | 89.10\n"
     ]
    }
   ],
   "source": [
    "df2['Word count'] = df2.apply(lambda row: word_count(row['Text']), axis=1)\n",
    "df2['Sentence count'] = df2.apply(lambda row: sent_count(row['Text']), axis=1)\n",
    "stories = df2['Text'].values.tolist()\n",
    "avg_words_in_sent = avg_words_in_sentence(stories)\n",
    "global_vocabulary_size, avg_vocabulary_size = vocabulary_size(stories)\n",
    "\n",
    "print(\"{:>10s} | {:.2f}\".format('Num. of stories', df2.shape[0]))\n",
    "print(\"{:>10s} | {:.2f}\".format('Shortest story', df2['Word count'].min()))\n",
    "print(\"{:>10s} | {:.2f}\".format('Longest story', df2['Word count'].max()))\n",
    "print(\"{:>10s} | {:.2f}\".format('Avg. word count', df2['Word count'].mean()))\n",
    "print(\"{:>10s} | {:.2f}\".format('Avg. sentence count', df2['Sentence count'].mean()))\n",
    "print(\"{:>10s} | {:.2f}\".format('Avg. words in sentence', avg_words_in_sent))\n",
    "print(\"{:>10s} | {:.2f}\".format('Vocabulary size', global_vocabulary_size))\n",
    "print(\"{:>10s} | {:.2f}\".format('Avg. vocabulary size', avg_vocabulary_size))"
   ]
  },
  {
   "cell_type": "markdown",
   "metadata": {},
   "source": [
    "# Corpus 1+2\n",
    "## Analyse both corpora"
   ]
  },
  {
   "cell_type": "code",
   "execution_count": 16,
   "metadata": {
    "pycharm": {
     "name": "#%%\n"
    }
   },
   "outputs": [
    {
     "name": "stdout",
     "output_type": "stream",
     "text": [
      "Num. of stories | 128.00\n",
      "Shortest story | 43.00\n",
      "Longest story | 476.00\n",
      "Avg. word count | 166.73\n",
      "Avg. sentence count | 6.61\n",
      "Avg. words in sentence | 25.23\n",
      "Vocabulary size | 2999.00\n",
      "Avg. vocabulary size | 93.11\n"
     ]
    }
   ],
   "source": [
    "df = df1.append(df2, ignore_index=True)\n",
    "\n",
    "df['Word count'] = df.apply(lambda row: word_count(row['Text']), axis=1)\n",
    "df['Sentence count'] = df.apply(lambda row: sent_count(row['Text']), axis=1)\n",
    "stories = df['Text'].values.tolist()\n",
    "avg_words_in_sent = avg_words_in_sentence(stories)\n",
    "global_vocabulary_size, avg_vocabulary_size = vocabulary_size(stories)\n",
    "\n",
    "print(\"{:>10s} | {:.2f}\".format('Num. of stories', df.shape[0]))\n",
    "print(\"{:>10s} | {:.2f}\".format('Shortest story', df['Word count'].min()))\n",
    "print(\"{:>10s} | {:.2f}\".format('Longest story', df['Word count'].max()))\n",
    "print(\"{:>10s} | {:.2f}\".format('Avg. word count', df['Word count'].mean()))\n",
    "print(\"{:>10s} | {:.2f}\".format('Avg. sentence count', df['Sentence count'].mean()))\n",
    "print(\"{:>10s} | {:.2f}\".format('Avg. words in sentence', avg_words_in_sent))\n",
    "print(\"{:>10s} | {:.2f}\".format('Vocabulary size', global_vocabulary_size))\n",
    "print(\"{:>10s} | {:.2f}\".format('Avg. vocabulary size', avg_vocabulary_size))"
   ]
  }
 ],
 "metadata": {
  "kernelspec": {
   "display_name": "Python 3",
   "language": "python",
   "name": "python3"
  },
  "language_info": {
   "codemirror_mode": {
    "name": "ipython",
    "version": 3
   },
   "file_extension": ".py",
   "mimetype": "text/x-python",
   "name": "python",
   "nbconvert_exporter": "python",
   "pygments_lexer": "ipython3",
   "version": "3.8.5"
  }
 },
 "nbformat": 4,
 "nbformat_minor": 1
}