{
 "cells": [
  {
   "cell_type": "code",
   "execution_count": 2,
   "metadata": {
    "pycharm": {
     "is_executing": true
    }
   },
   "outputs": [],
   "source": [
    "import pandas as pd\n",
    "from helpers import word_count, sent_count, avg_words_in_sentence, vocabulary_size"
   ]
  },
  {
   "cell_type": "markdown",
   "metadata": {},
   "source": [
    "## Read corpus"
   ]
  },
  {
   "cell_type": "code",
   "execution_count": 3,
   "metadata": {},
   "outputs": [
    {
     "data": {
      "text/html": [
       "<div>\n",
       "<style scoped>\n",
       "    .dataframe tbody tr th:only-of-type {\n",
       "        vertical-align: middle;\n",
       "    }\n",
       "\n",
       "    .dataframe tbody tr th {\n",
       "        vertical-align: top;\n",
       "    }\n",
       "\n",
       "    .dataframe thead th {\n",
       "        text-align: right;\n",
       "    }\n",
       "</style>\n",
       "<table border=\"1\" class=\"dataframe\">\n",
       "  <thead>\n",
       "    <tr style=\"text-align: right;\">\n",
       "      <th></th>\n",
       "      <th>Unnamed: 0</th>\n",
       "      <th>Title</th>\n",
       "      <th>Text</th>\n",
       "    </tr>\n",
       "  </thead>\n",
       "  <tbody>\n",
       "    <tr>\n",
       "      <th>0</th>\n",
       "      <td>0</td>\n",
       "      <td>THE GOLDEN BIRD</td>\n",
       "      <td>A certain king had a beautiful garden, and in ...</td>\n",
       "    </tr>\n",
       "    <tr>\n",
       "      <th>1</th>\n",
       "      <td>1</td>\n",
       "      <td>HANS IN LUCK</td>\n",
       "      <td>Some men are born to good luck: all they do or...</td>\n",
       "    </tr>\n",
       "    <tr>\n",
       "      <th>2</th>\n",
       "      <td>2</td>\n",
       "      <td>JORINDA AND JORINDEL</td>\n",
       "      <td>There was once an old castle, that stood in th...</td>\n",
       "    </tr>\n",
       "    <tr>\n",
       "      <th>3</th>\n",
       "      <td>3</td>\n",
       "      <td>THE TRAVELLING MUSICIANS</td>\n",
       "      <td>An honest farmer had once an ass that had been...</td>\n",
       "    </tr>\n",
       "    <tr>\n",
       "      <th>4</th>\n",
       "      <td>4</td>\n",
       "      <td>OLD SULTAN</td>\n",
       "      <td>A shepherd had a faithful dog, called Sultan, ...</td>\n",
       "    </tr>\n",
       "  </tbody>\n",
       "</table>\n",
       "</div>"
      ],
      "text/plain": [
       "   Unnamed: 0                     Title  \\\n",
       "0           0           THE GOLDEN BIRD   \n",
       "1           1              HANS IN LUCK   \n",
       "2           2      JORINDA AND JORINDEL   \n",
       "3           3  THE TRAVELLING MUSICIANS   \n",
       "4           4                OLD SULTAN   \n",
       "\n",
       "                                                Text  \n",
       "0  A certain king had a beautiful garden, and in ...  \n",
       "1  Some men are born to good luck: all they do or...  \n",
       "2  There was once an old castle, that stood in th...  \n",
       "3  An honest farmer had once an ass that had been...  \n",
       "4  A shepherd had a faithful dog, called Sultan, ...  "
      ]
     },
     "execution_count": 3,
     "metadata": {},
     "output_type": "execute_result"
    }
   ],
   "source": [
    "df = pd.read_csv(\"./data/grimms_fairytales.csv\")\n",
    "df.head()"
   ]
  },
  {
   "cell_type": "markdown",
   "metadata": {},
   "source": [
    "## Edit corpus"
   ]
  },
  {
   "cell_type": "code",
   "execution_count": 4,
   "metadata": {
    "pycharm": {
     "name": "#%%\n"
    }
   },
   "outputs": [],
   "source": [
    "df = df.iloc[:, 1:]\n",
    "df = df.replace(r'[\\n]+', ' ', regex=True)"
   ]
  },
  {
   "cell_type": "markdown",
   "metadata": {},
   "source": [
    "## Analyse corpus"
   ]
  },
  {
   "cell_type": "code",
   "execution_count": 5,
   "metadata": {
    "pycharm": {
     "name": "#%%\n"
    }
   },
   "outputs": [
    {
     "name": "stdout",
     "output_type": "stream",
     "text": [
      "Shortest fairy tale | 286.00\n",
      "Longes fairy tale | 4696.00\n",
      "Avg. word count | 1915.17\n",
      "Avg. sentence count | 44.57\n",
      "Avg. words in sentence | 42.97\n",
      "Vocabulary size | 5723.00\n",
      "Avg. vocabulary size | 472.22\n"
     ]
    }
   ],
   "source": [
    "df['Word count'] = df.apply(lambda row: word_count(row['Text']), axis=1)\n",
    "df['Sentence count'] = df.apply(lambda row: sent_count(row['Text']), axis=1)\n",
    "stories = df['Text'].values.tolist()\n",
    "avg_words_in_sentence=avg_words_in_sentence(stories)\n",
    "global_vocabulary_size, avg_vocabulary_size = vocabulary_size(stories)\n",
    "\n",
    "print(\"{:>10s} | {:.2f}\".format('Shortest fairy tale', df['Word count'].min()))\n",
    "print(\"{:>10s} | {:.2f}\".format('Longes fairy tale', df['Word count'].max()))\n",
    "print(\"{:>10s} | {:.2f}\".format('Avg. word count', df['Word count'].mean()))\n",
    "print(\"{:>10s} | {:.2f}\".format('Avg. sentence count', df['Sentence count'].mean()))\n",
    "print(\"{:>10s} | {:.2f}\".format('Avg. words in sentence', avg_words_in_sentence))\n",
    "print(\"{:>10s} | {:.2f}\".format('Vocabulary size', global_vocabulary_size))\n",
    "print(\"{:>10s} | {:.2f}\".format('Avg. vocabulary size', avg_vocabulary_size))\n"
   ]
  }
 ],
 "metadata": {
  "kernelspec": {
   "display_name": "Python 3 (ipykernel)",
   "language": "python",
   "name": "python3"
  },
  "language_info": {
   "codemirror_mode": {
    "name": "ipython",
    "version": 3
   },
   "file_extension": ".py",
   "mimetype": "text/x-python",
   "name": "python",
   "nbconvert_exporter": "python",
   "pygments_lexer": "ipython3",
   "version": "3.9.13"
  }
 },
 "nbformat": 4,
 "nbformat_minor": 1
}