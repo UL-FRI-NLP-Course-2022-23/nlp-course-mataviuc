{
 "cells": [
  {
   "cell_type": "code",
   "execution_count": 2,
   "metadata": {
    "pycharm": {
     "is_executing": true
    }
   },
   "outputs": [],
   "source": [
    "import pandas as pd\n",
    "import os\n",
    "from helpers import word_count, sent_count, avg_words_in_sentence, vocabulary_size"
   ]
  },
  {
   "cell_type": "markdown",
   "metadata": {},
   "source": [
    "## Read corpus"
   ]
  },
  {
   "cell_type": "code",
   "execution_count": 3,
   "metadata": {},
   "outputs": [
    {
     "data": {
      "text/html": [
       "<div>\n",
       "<style scoped>\n",
       "    .dataframe tbody tr th:only-of-type {\n",
       "        vertical-align: middle;\n",
       "    }\n",
       "\n",
       "    .dataframe tbody tr th {\n",
       "        vertical-align: top;\n",
       "    }\n",
       "\n",
       "    .dataframe thead th {\n",
       "        text-align: right;\n",
       "    }\n",
       "</style>\n",
       "<table border=\"1\" class=\"dataframe\">\n",
       "  <thead>\n",
       "    <tr style=\"text-align: right;\">\n",
       "      <th></th>\n",
       "      <th>Title</th>\n",
       "      <th>Text</th>\n",
       "    </tr>\n",
       "  </thead>\n",
       "  <tbody>\n",
       "    <tr>\n",
       "      <th>0</th>\n",
       "      <td>Androcles</td>\n",
       "      <td>A slave named Androcles once escaped from his ...</td>\n",
       "    </tr>\n",
       "    <tr>\n",
       "      <th>1</th>\n",
       "      <td>Avaracious_and_Envious</td>\n",
       "      <td>Two neighbours came before Jupiter and prayed ...</td>\n",
       "    </tr>\n",
       "    <tr>\n",
       "      <th>2</th>\n",
       "      <td>Belling_the_Cat</td>\n",
       "      <td>Long ago, the mice had a general council to co...</td>\n",
       "    </tr>\n",
       "    <tr>\n",
       "      <th>3</th>\n",
       "      <td>Hercules_and_the_Waggoner</td>\n",
       "      <td>A Waggoner was once driving a heavy load along...</td>\n",
       "    </tr>\n",
       "    <tr>\n",
       "      <th>4</th>\n",
       "      <td>The_Ant_and_the_Grasshopper</td>\n",
       "      <td>In a field one summer’s day a Grasshopper was ...</td>\n",
       "    </tr>\n",
       "  </tbody>\n",
       "</table>\n",
       "</div>"
      ],
      "text/plain": [
       "                         Title  \\\n",
       "0                    Androcles   \n",
       "1       Avaracious_and_Envious   \n",
       "2              Belling_the_Cat   \n",
       "3    Hercules_and_the_Waggoner   \n",
       "4  The_Ant_and_the_Grasshopper   \n",
       "\n",
       "                                                Text  \n",
       "0  A slave named Androcles once escaped from his ...  \n",
       "1  Two neighbours came before Jupiter and prayed ...  \n",
       "2  Long ago, the mice had a general council to co...  \n",
       "3  A Waggoner was once driving a heavy load along...  \n",
       "4  In a field one summer’s day a Grasshopper was ...  "
      ]
     },
     "execution_count": 3,
     "metadata": {},
     "output_type": "execute_result"
    }
   ],
   "source": [
    "df = pd.DataFrame(columns=['Title','Text'])\n",
    "\n",
    "dir_path = 'data/aesop/original/'\n",
    "for story_name in os.listdir(dir_path):\n",
    "    with open(dir_path + story_name, 'r') as file:\n",
    "        story = file.read().replace('\\n', ' ')\n",
    "        df=df.append({'Title':story_name.replace('.txt',''),'Text':story},ignore_index=True)\n",
    "df.head()"
   ]
  },
  {
   "cell_type": "markdown",
   "metadata": {},
   "source": [
    "## Edit corpus"
   ]
  },
  {
   "cell_type": "code",
   "execution_count": 4,
   "metadata": {
    "pycharm": {
     "name": "#%%\n"
    }
   },
   "outputs": [],
   "source": [
    "df = df.replace(r'[\\n]+', ' ', regex=True)"
   ]
  },
  {
   "cell_type": "markdown",
   "metadata": {},
   "source": [
    "## Analyse corpus"
   ]
  },
  {
   "cell_type": "code",
   "execution_count": 5,
   "metadata": {
    "pycharm": {
     "name": "#%%\n"
    }
   },
   "outputs": [
    {
     "name": "stdout",
     "output_type": "stream",
     "text": [
      "Shortest fairy tale | 86.00\n",
      "Longes fairy tale | 355.00\n",
      "Avg. word count | 171.44\n",
      "Avg. sentence count | 6.33\n",
      "Avg. words in sentence | 27.09\n",
      "Vocabulary size | 1745.00\n",
      "Avg. vocabulary size | 97.15\n"
     ]
    }
   ],
   "source": [
    "df['Word count'] = df.apply(lambda row: word_count(row['Text']), axis=1)\n",
    "df['Sentence count'] = df.apply(lambda row: sent_count(row['Text']), axis=1)\n",
    "stories = df['Text'].values.tolist()\n",
    "avg_words_in_sentence=avg_words_in_sentence(stories)\n",
    "global_vocabulary_size, avg_vocabulary_size = vocabulary_size(stories)\n",
    "\n",
    "print(\"{:>10s} | {:.2f}\".format('Shortest story', df['Word count'].min()))\n",
    "print(\"{:>10s} | {:.2f}\".format('Longest story', df['Word count'].max()))\n",
    "print(\"{:>10s} | {:.2f}\".format('Avg. word count', df['Word count'].mean()))\n",
    "print(\"{:>10s} | {:.2f}\".format('Avg. sentence count', df['Sentence count'].mean()))\n",
    "print(\"{:>10s} | {:.2f}\".format('Avg. words in sentence', avg_words_in_sentence))\n",
    "print(\"{:>10s} | {:.2f}\".format('Vocabulary size', global_vocabulary_size))\n",
    "print(\"{:>10s} | {:.2f}\".format('Avg. vocabulary size', avg_vocabulary_size))\n"
   ]
  }
 ],
 "metadata": {
  "kernelspec": {
   "display_name": "Python 3",
   "language": "python",
   "name": "python3"
  },
  "language_info": {
   "codemirror_mode": {
    "name": "ipython",
    "version": 3
   },
   "file_extension": ".py",
   "mimetype": "text/x-python",
   "name": "python",
   "nbconvert_exporter": "python",
   "pygments_lexer": "ipython3",
   "version": "3.8.5"
  }
 },
 "nbformat": 4,
 "nbformat_minor": 1
}